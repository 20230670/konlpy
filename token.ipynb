{
  "nbformat": 4,
  "nbformat_minor": 0,
  "metadata": {
    "colab": {
      "provenance": [],
      "authorship_tag": "ABX9TyM7tHsBU7pgETPIAf04l1s4",
      "include_colab_link": true
    },
    "kernelspec": {
      "name": "python3",
      "display_name": "Python 3"
    },
    "language_info": {
      "name": "python"
    }
  },
  "cells": [
    {
      "cell_type": "markdown",
      "metadata": {
        "id": "view-in-github",
        "colab_type": "text"
      },
      "source": [
        "<a href=\"https://colab.research.google.com/github/20230670/konlpy/blob/main/token.ipynb\" target=\"_parent\"><img src=\"https://colab.research.google.com/assets/colab-badge.svg\" alt=\"Open In Colab\"/></a>"
      ]
    },
    {
      "cell_type": "code",
      "source": [
        "!pip install konlpy\n",
        "!apt-get update -qq\n",
        "!apt-get install fonts-nanum* -qq"
      ],
      "metadata": {
        "colab": {
          "base_uri": "https://localhost:8080/"
        },
        "id": "WVTdD35I8YaW",
        "outputId": "b041f2ca-a647-4f98-8c6e-b7e6859b30d8"
      },
      "execution_count": 1,
      "outputs": [
        {
          "output_type": "stream",
          "name": "stdout",
          "text": [
            "Collecting konlpy\n",
            "  Downloading konlpy-0.6.0-py2.py3-none-any.whl (19.4 MB)\n",
            "\u001b[2K     \u001b[90m━━━━━━━━━━━━━━━━━━━━━━━━━━━━━━━━━━━━━━━━\u001b[0m \u001b[32m19.4/19.4 MB\u001b[0m \u001b[31m22.0 MB/s\u001b[0m eta \u001b[36m0:00:00\u001b[0m\n",
            "\u001b[?25hCollecting JPype1>=0.7.0 (from konlpy)\n",
            "  Downloading JPype1-1.4.1-cp310-cp310-manylinux_2_12_x86_64.manylinux2010_x86_64.whl (465 kB)\n",
            "\u001b[2K     \u001b[90m━━━━━━━━━━━━━━━━━━━━━━━━━━━━━━━━━━━━━━\u001b[0m \u001b[32m465.3/465.3 kB\u001b[0m \u001b[31m24.8 MB/s\u001b[0m eta \u001b[36m0:00:00\u001b[0m\n",
            "\u001b[?25hRequirement already satisfied: lxml>=4.1.0 in /usr/local/lib/python3.10/dist-packages (from konlpy) (4.9.3)\n",
            "Requirement already satisfied: numpy>=1.6 in /usr/local/lib/python3.10/dist-packages (from konlpy) (1.23.5)\n",
            "Requirement already satisfied: packaging in /usr/local/lib/python3.10/dist-packages (from JPype1>=0.7.0->konlpy) (23.1)\n",
            "Installing collected packages: JPype1, konlpy\n",
            "Successfully installed JPype1-1.4.1 konlpy-0.6.0\n",
            "Selecting previously unselected package fonts-nanum.\n",
            "(Reading database ... 120895 files and directories currently installed.)\n",
            "Preparing to unpack .../fonts-nanum_20200506-1_all.deb ...\n",
            "Unpacking fonts-nanum (20200506-1) ...\n",
            "Selecting previously unselected package fonts-nanum-coding.\n",
            "Preparing to unpack .../fonts-nanum-coding_2.5-3_all.deb ...\n",
            "Unpacking fonts-nanum-coding (2.5-3) ...\n",
            "Selecting previously unselected package fonts-nanum-eco.\n",
            "Preparing to unpack .../fonts-nanum-eco_1.000-7_all.deb ...\n",
            "Unpacking fonts-nanum-eco (1.000-7) ...\n",
            "Selecting previously unselected package fonts-nanum-extra.\n",
            "Preparing to unpack .../fonts-nanum-extra_20200506-1_all.deb ...\n",
            "Unpacking fonts-nanum-extra (20200506-1) ...\n",
            "Setting up fonts-nanum-extra (20200506-1) ...\n",
            "Setting up fonts-nanum (20200506-1) ...\n",
            "Setting up fonts-nanum-coding (2.5-3) ...\n",
            "Setting up fonts-nanum-eco (1.000-7) ...\n",
            "Processing triggers for fontconfig (2.13.1-4.2ubuntu5) ...\n"
          ]
        }
      ]
    },
    {
      "cell_type": "code",
      "execution_count": 2,
      "metadata": {
        "id": "Y_k2iR3Enc8O"
      },
      "outputs": [],
      "source": [
        "from konlpy.tag import Okt\n",
        "\n",
        "okt = Okt()\n",
        "\n"
      ]
    },
    {
      "cell_type": "code",
      "source": [
        "# 정규화\n",
        "\n",
        "text = \"안녕하세욬ㅋㅋ\"\n",
        "normalize = okt.normalize(text)\n",
        "print(normalize)"
      ],
      "metadata": {
        "colab": {
          "base_uri": "https://localhost:8080/"
        },
        "id": "HM2BdRPgn0uO",
        "outputId": "6ab30e5b-30ef-4769-e48a-be8e92258d0f"
      },
      "execution_count": 3,
      "outputs": [
        {
          "output_type": "stream",
          "name": "stdout",
          "text": [
            "안녕하세요ㅋㅋ\n"
          ]
        }
      ]
    },
    {
      "cell_type": "code",
      "source": [
        "# 형태소 분석\n",
        "\n",
        "text1 = \"좋은 인간이 되는 것과 좋은 시민이 되는 것이 항상 같은 것은 아니다.\"\n",
        "\n",
        "morphs = okt.morphs(text1)\n",
        "print(morphs)\n"
      ],
      "metadata": {
        "colab": {
          "base_uri": "https://localhost:8080/"
        },
        "id": "XkTumAH48YKB",
        "outputId": "f5acff0e-3e99-46a9-bc25-d8deca21cf40"
      },
      "execution_count": 4,
      "outputs": [
        {
          "output_type": "stream",
          "name": "stdout",
          "text": [
            "['좋은', '인간', '이', '되는', '것', '과', '좋은', '시민', '이', '되는', '것', '이', '항상', '같은', '것', '은', '아니다', '.']\n"
          ]
        }
      ]
    },
    {
      "cell_type": "code",
      "source": [
        "# 명사만 추출\n",
        "\n",
        "nouns = okt.nouns(text1)\n",
        "print(nouns)\n",
        "\n",
        "# 불용어 처리\n",
        "from collections import Counter\n",
        "\n",
        "stopwords = ['것']\n",
        "result = [x for x in nouns if x not in stopwords and len(x) > 1]\n",
        "print(result)\n",
        "\n",
        "c = Counter(result)\n",
        "print(c.most_common(10))"
      ],
      "metadata": {
        "colab": {
          "base_uri": "https://localhost:8080/"
        },
        "id": "TkeudJpL8YpL",
        "outputId": "f39e6f9c-6e46-47dc-e138-2aba89dddeca"
      },
      "execution_count": 5,
      "outputs": [
        {
          "output_type": "stream",
          "name": "stdout",
          "text": [
            "['인간', '것', '시민', '것', '항상', '것']\n",
            "['인간', '시민', '항상']\n",
            "[('인간', 1), ('시민', 1), ('항상', 1)]\n"
          ]
        }
      ]
    },
    {
      "cell_type": "code",
      "source": [
        "#단어별 빈도 count\n",
        "from collections import Counter\n",
        "\n",
        "news = \"\"\"방송통신위원회(위원장 이동관, 이하 방통위)가 가짜뉴스 근절과 신속 피해구제를 위한 신속심의·구제제도 (패스트트랙)활성화, 가짜뉴스에 대한 실효성 있는 제재 도입, 사실상 언론으로서 막대한 영향력을 행사하는 포털 사업자의 사회적 책임 강화 등 대응에 나서기로 했다.\n",
        "\n",
        "방통위는 18일 경기도 과천시 정부 과천청사 방통위에서 열린 전체회의에서 이같은 내용의 ‘가짜뉴스 근절 추진방안’을 발표했다.\n",
        "\n",
        "이번 대책 마련을 위해 방통위는 지난 6일부터 가짜뉴스 근절 태스크포스(TF)를 가동하고, 13일 방송통신심의위원회가 협력 기관으로 참석한 회의에서 세부 방안을 논의했다.\n",
        "\n",
        "TF는 일단 방심위에 가짜뉴스 신고 창구를 마련하고, 접수 순서와 상관없이 신속심의와 후속 구제조치를 원스톱으로 처리하는 방안을 활성화하기로 했다.\n",
        "\n",
        "이를 위해 방심위 방송소위가 종전 주 1회 회의에서 주 2회 회의로 확대되고, 24시간 이내 전자심의 등을 위한 입법이 추진될 전망이다.\n",
        "\n",
        "또 가짜뉴스 신고 접수 및 신속 심의 상황을 주요 포털 사업자와 공유해 긴급 재난상황이나, 금융시장의 심각한 혼란 유발, 선거 결과에 영향, 중대한 공익의 침해 등 긴급하게 필요한 경우 사업자의 선제적 조치를 요청하는 등 자율규제를 우선 추진한다.\n",
        "\n",
        "방송사에 대한 재허가?재승인 심사의 객관성 제고를 위해 심사평가를 계량평가 중심으로 전환하고, 허가·승인 유효기간을 5년에서 7년으로 확대하는 방안을 추진하기로 했다.\n",
        "\n",
        "하지만 긴급하고 심각한 위반행위가 있는 경우에는 유효기간을 현행 최단 3년보다 축소하는 등 실효적이고 탄력적인 제재 방안도 검토한다.\n",
        "\n",
        "네이버와 다음카카오 등 주요 인터넷 사업자들은 방통위의 가짜뉴스 근절 대책에 협조하고 지속적으로 협의해 나가기로 했다.\"\"\"\n",
        "noun = okt.nouns(news)\n",
        "count = Counter(result)\n",
        "\n",
        "# 불용어 처리\n",
        "from collections import Counter\n",
        "stopwords = ['이','등','를','또','및','재']\n",
        "result = [x for x in count if x not in stopwords and len(x) > 1]\n",
        "\n",
        "\n",
        "\n",
        "# 명사 빈도 카운트\n",
        "noun_list = count.most_common(100)\n",
        "for v in noun_list:\n",
        "\tprint(v)\n",
        "\n",
        "\n",
        "\n",
        "\n",
        "\n"
      ],
      "metadata": {
        "colab": {
          "base_uri": "https://localhost:8080/"
        },
        "id": "pO2Jh6sOfEMU",
        "outputId": "58772ab7-4c50-4854-bfc2-2408b601a763"
      },
      "execution_count": 6,
      "outputs": [
        {
          "output_type": "stream",
          "name": "stdout",
          "text": [
            "('인간', 1)\n",
            "('시민', 1)\n",
            "('항상', 1)\n"
          ]
        }
      ]
    },
    {
      "cell_type": "code",
      "source": [
        "from wordcloud.wordcloud import FONT_PATH\n",
        "from wordcloud import WordCloud\n",
        "import matplotlib.pyplot as plt\n",
        "from os import path\n",
        "\n",
        "FONT_PATH = \"/usr/share/fonts/truetype/nanum/NanumGothic.ttf\"\n",
        "\n",
        "text = \" \".join(result)\n",
        "wordcloud = WordCloud(\n",
        "    max_font_size=100,\n",
        "    max_words=55,\n",
        "    background_color= 'gray',\n",
        "    relative_scaling=.5,\n",
        "    width = 500,\n",
        "    height = 300,\n",
        "    font_path=FONT_PATH).generate(text)\n",
        "\n",
        "plt.figure()\n",
        "plt.imshow(wordcloud, interpolation='bilinear')\n",
        "plt.axis(\"off\")\n",
        "plt.show()"
      ],
      "metadata": {
        "colab": {
          "base_uri": "https://localhost:8080/",
          "height": 334
        },
        "id": "jXC_iwt_bf2s",
        "outputId": "db1cfa9c-b91f-4362-d364-c65812666943"
      },
      "execution_count": 7,
      "outputs": [
        {
          "output_type": "display_data",
          "data": {
            "text/plain": [
              "<Figure size 640x480 with 1 Axes>"
            ],
            "image/png": "[encoded data removed]"
          },
          "metadata": {}
        }
      ]
    }
  ]
}